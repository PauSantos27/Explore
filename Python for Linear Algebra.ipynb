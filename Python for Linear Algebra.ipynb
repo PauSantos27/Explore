{
 "cells": [
  {
   "cell_type": "markdown",
   "id": "a01b2571",
   "metadata": {},
   "source": [
    "### Assignment 1"
   ]
  },
  {
   "cell_type": "markdown",
   "id": "b716d37e",
   "metadata": {},
   "source": [
    "**TASK**: print('My name is ' + name + '. I am now ' + age + ' years old,\\ and in 6 years I\\'ll be ' + ' years old.')"
   ]
  },
  {
   "cell_type": "code",
   "execution_count": 49,
   "id": "c4b1031a",
   "metadata": {},
   "outputs": [
    {
     "name": "stdout",
     "output_type": "stream",
     "text": [
      "My name is Pau. I am now 22 years old, and in 6 years I'll be 28 years old.\n"
     ]
    }
   ],
   "source": [
    "name = \"Pau\"\n",
    "age = 22\n",
    "\n",
    "print('My name is ' + name + '. I am now ' + str(age) + ' years old,\\\n",
    " and in 6 years I\\'ll be ' + str(age + 6) + ' years old.')"
   ]
  },
  {
   "cell_type": "markdown",
   "id": "7f0f473c",
   "metadata": {},
   "source": [
    "### Assignment 2"
   ]
  },
  {
   "cell_type": "markdown",
   "id": "64ec26a5",
   "metadata": {},
   "source": [
    "###### 1. Create a list of 15 numbers from 4 to 100."
   ]
  },
  {
   "cell_type": "code",
   "execution_count": 19,
   "id": "6ef4ba30",
   "metadata": {},
   "outputs": [],
   "source": [
    "import numpy as np"
   ]
  },
  {
   "cell_type": "code",
   "execution_count": 36,
   "id": "657056aa",
   "metadata": {},
   "outputs": [
    {
     "data": {
      "text/plain": [
       "array([  4.        ,  10.85714286,  17.71428571,  24.57142857,\n",
       "        31.42857143,  38.28571429,  45.14285714,  52.        ,\n",
       "        58.85714286,  65.71428571,  72.57142857,  79.42857143,\n",
       "        86.28571429,  93.14285714, 100.        ])"
      ]
     },
     "execution_count": 36,
     "metadata": {},
     "output_type": "execute_result"
    }
   ],
   "source": [
    "np.linspace(4,100,15)"
   ]
  },
  {
   "cell_type": "markdown",
   "id": "f0439f81",
   "metadata": {},
   "source": [
    "###### 2. Round those numbers to the nearest integer, and store in another variable."
   ]
  },
  {
   "cell_type": "code",
   "execution_count": 40,
   "id": "8e27088c",
   "metadata": {},
   "outputs": [],
   "source": [
    "np.round_(np.linspace(4,100,15))\n",
    "\n",
    "round = np.round_(np.linspace(4,100,15))"
   ]
  },
  {
   "cell_type": "markdown",
   "id": "9f4b2099",
   "metadata": {},
   "source": [
    "###### 3. Print out #2."
   ]
  },
  {
   "cell_type": "code",
   "execution_count": 47,
   "id": "06b3ada8",
   "metadata": {},
   "outputs": [
    {
     "data": {
      "text/plain": [
       "array([  4.,  11.,  18.,  25.,  31.,  38.,  45.,  52.,  59.,  66.,  73.,\n",
       "        79.,  86.,  93., 100.])"
      ]
     },
     "execution_count": 47,
     "metadata": {},
     "output_type": "execute_result"
    }
   ],
   "source": [
    "round"
   ]
  },
  {
   "cell_type": "markdown",
   "id": "cf9933d8",
   "metadata": {},
   "source": [
    "###### 4. Print out the square root of each number in the list."
   ]
  },
  {
   "cell_type": "code",
   "execution_count": 48,
   "id": "e3db0692",
   "metadata": {},
   "outputs": [
    {
     "data": {
      "text/plain": [
       "array([ 2.        ,  3.29501788,  4.20883425,  4.95695759,  5.60611911,\n",
       "        6.18754509,  6.71884344,  7.21110255,  7.6718409 ,  8.10643483,\n",
       "        8.51888658,  8.91227083,  9.2890104 ,  9.65105472, 10.        ])"
      ]
     },
     "execution_count": 48,
     "metadata": {},
     "output_type": "execute_result"
    }
   ],
   "source": [
    "np.sqrt(np.linspace(4,100,15))"
   ]
  }
 ],
 "metadata": {
  "kernelspec": {
   "display_name": "Python 3 (ipykernel)",
   "language": "python",
   "name": "python3"
  },
  "language_info": {
   "codemirror_mode": {
    "name": "ipython",
    "version": 3
   },
   "file_extension": ".py",
   "mimetype": "text/x-python",
   "name": "python",
   "nbconvert_exporter": "python",
   "pygments_lexer": "ipython3",
   "version": "3.10.9"
  }
 },
 "nbformat": 4,
 "nbformat_minor": 5
}
